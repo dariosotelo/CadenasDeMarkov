{
 "cells": [
  {
   "cell_type": "markdown",
   "id": "d9182ea1",
   "metadata": {},
   "source": [
    "# Cadenas de Markov\n",
    "\n",
    "## Profesor: Doctor Simón Lunagómez\n",
    "\n",
    "## Darío Sotelo\n",
    "## Mateo Guajardo\n",
    "## Jorge Joseph"
   ]
  },
  {
   "cell_type": "markdown",
   "id": "c4cd6727",
   "metadata": {},
   "source": [
    "### Introducción\n",
    "\n",
    "Las $ \\textit{Cadenas de Markov} $ son un tipo de proceso estocástico. El concepto fue introducido por Andrey Markov en 1906, resultando en algo muy innovador por su peculiar propiedad de pérdida de memoria, pues la cadena, a partir de un tiempo fijo $ t_n > 0 $ es independiente de los valores que tome en los $n - 1$ tiempos anteriores (tiempo discreto). Algunas de sus caracteristicas principales son:\n",
    " - Cuenta con estados de transición.\n",
    " - Pueden tener finitos o infinitos estados.\n",
    " - La cadena se puede escribir como una matriz de transición (si sus estados son contables).\n",
    " - Perdida de memoria. "
   ]
  },
  {
   "cell_type": "markdown",
   "id": "c7b69ade",
   "metadata": {},
   "source": [
    "### Definiciones\n",
    "\n",
    "- $ \\textit{Espacio de estados:} $ se refiere a todos los posibles valores que puede tomar $ X_n $ donde $ n $ representa la evolución del proceso a través del tiempo.\n",
    "- $ \\textit{Cadena de Markov:} $ una secuencia de variables aleatorias $ X_0 $, $ X_1 $, $ X_2 $,... tomando valores en el $ \\textit{espacio de estados} $ $\\{1,2,3,4,...\\}$ se llama $ \\textit{cadena de Markov} $ si $\\forall$ $ n $ > 0, \n",
    "\n",
    "\n",
    "$$P(X_{n+1}=j|X_n=i,X_{n-1}=i-1,...,X_0=i_0)=P(X_{n+1}=j|X_n=i).$$\n",
    "\n",
    "    \n",
    "- $ \\textit{Probabilidad de transición:} $ la cantidad $P(X_{n+1}=j|X_n=i)$ se llama $\\textit{probabilidad de transición} $ del estado $ i $ al estado $ j. $\n",
    "- $ \\textit{Propiedad de Markov:} $ dada toda la historia de las variables aleatorias anteriores, $X_n,X_{n-1},...,X_0,$ solo el $\\textit{último término}$ $ X_n $ importa para predecir $ X_{n+1}. $\n",
    "- $ \\textit{Matriz de transición:}$ sea $X_0,X_1,X_2...$ una cadena de Markov con espacio de estados $\\{1,2,...,M\\}$ y sea $q_{ij}=P(X_{n+1}=j|X_n=i)$ la probabilidad de transición del estado $i$ al estado $j.$ Entonces, $Q=(q_{ij})$, la matriz de tamaño $M$$\\times$$M$ $Q=(q_{ij})$, se llama la $\\textit{matriz de transición}$ de la cadena. $Q$ es una matriz no negativa cuyos renglones suman $1$.\n",
    "- $\\textit{Diagramas:}$ son las representaciones gráficas de las matrices de transición de un estado a otro."
   ]
  },
  {
   "cell_type": "markdown",
   "id": "80b33f93",
   "metadata": {},
   "source": [
    "### Matrices de transición y diagramas\n",
    "\n",
    "Como fue explicado anteriormente de manera breve, las matrices de transición son la representación matricial de una $\\textit{cadena de Markov,}$ una característica muy importante de estas matrices es que todos los renglones deben sumar $1$ y todas las entradas deben de ser no negativas, pues define las probabilidades de moverse a partir del estado que corresponde a ese renglón, además estas matrices van a ser de tamaño $n$x$n$ si existen n estados. Si una $\\textit{matriz de transición}$ cumple que sus columnas también sumen $1,$ a esta matriz se le llama $\\textit{doblemente estocástica.}$ Además, decimos que una matriz $P=(p_{ij}:i,j\\in I)$ es $\\textit{estocástica}$ si cada renglón $P=(p_{ij}:j\\in I)$ es una distribución. Un par de ejemplos de una matriz de transición (J. R. Norris):\n",
    "\n",
    "![matriz de transción](matricesDeTransicion.PNG)\n",
    "\n",
    "En este ejemplo, lo que está a la izquierda son las matrices de transición y los grafos que están a la derecha son sus $\\textit{diagramas.}$ Estas son dos formas diferentes de representar la misma una información, una $\\textit{cadena de Markov.}$ Los $\\textit{diagramas}$ son muy útiles porque permiten ver los nodos como estados y las aristas representan la probabilidad que se tiene de pasar de un estado a otro. En el ejemplo que se mostró anteriormente, podemos ver que la probabilidad de que si estamos en el estado $1$ y queremos ir al estado $2$ $p_{12}$ es $\\alpha,$ tenemos también la probabilidad de que la transición sea del estado $1$ al mismo $p_{11}$ es de $1-\\alpha$ en este ejemplo no vemos la arista que enseña esta probabilidad de transición, pero asumimos que se encuentra ahí porque la probabilidad de salida de cada estado siempre debe de sumar 1. En el segundo ejemplo, la probabilidad de transición de $p_{11}=p_{13}=0$ esto quiere decir que no hay aristas que van en esas direcciones.\n",
    "\n",
    "Podemos definir a las $\\textit{cadenas de Markov}$ más formalmente de la siguiente manera: decimos que \n",
    "\n",
    "1. $X_0$ tiene una distribución $\\lambda;$\n",
    "2. $\\forall$ $n\\geq$0, condicionada en $X_n=i, X_{n+1}$ tiene una distribución $(p_{ij}:j\\in I)$ y es independiente de $X_0,...,X_{n-1.}$\n",
    "\n",
    "Dado que las matrices no necesariamente parten de un estado único, sino una distribución, el proceso pondera a esa distribución multiplicando por la derecha la matriz estocástica, es decir, si $X_0$ tiene una distribución $\\lambda$, con $\\lambda$ vector de probabilidades, $X_1$ tendrá vector de probabilidades $\\lambda *A$ si $A$ es la matriz estocástica. Aquí entra en juego la restricción de las matrices porque conserva la suma de las entradas del vector, es decir, que la probabilidad total siga siendo 1. Aquí es muy importante recordar que se debe multiplicar la matriz estocástica por la derecha.\n",
    "Este vector de probabilidades explica la distribución como $\\textit{función de masa de probabilidad}$.\n",
    "Siguiendo esta línea de pensamiento podemos construir esa fórmula como recursiva a partir de la propiedad de Markov, reesscribiendo esto por asociatividad del producto matricial, podemos reemplazar la recursiva por la fórmula de que $X_n$ tiene distribución $\\lambda *A^n$ si no se le vuelve a condicionar después de $t=0$. Si se le condiciona en i, $X_{n+i}$ es n pasos después y se obtiene un resultado análogo, es decir, se puede cambiar el parámetro para que el condicionamiento sea al $0$ de nuestra nueva variable en función de $t$.\n",
    "\n",
    "Las cadenas de Markov permite que un proceso se pueda manipular de distintas formas y dar como resultado otra cadena de Markov, como lo es el cambiar la observación de esta, por ejemplo si se observa cada $n$ unidades de tiempo, la cadena generada tiene la misma distribución inicial y matriz de transición $A^n$. Así podemos no solo desplazar el tiempo sino comprimirlo.\n"
   ]
  },
  {
   "cell_type": "markdown",
   "id": "10c56e83",
   "metadata": {},
   "source": [
    "### Ejemplos"
   ]
  },
  {
   "cell_type": "markdown",
   "id": "066b96ad",
   "metadata": {},
   "source": [
    "#### Ejemplo 1"
   ]
  },
  {
   "cell_type": "markdown",
   "id": "d4a22bb4",
   "metadata": {},
   "source": [
    "- En la siguiente celda, adjunto un código que hace el diagrama de una matriz de transición. Este código toma como parámetros una matriz y regresa un archivo de imágen que representa el diagrama correspondiente."
   ]
  },
  {
   "cell_type": "code",
   "execution_count": 1,
   "id": "aada1989",
   "metadata": {},
   "outputs": [
    {
     "data": {
      "image/png": "[encoded data removed]",
      "text/plain": [
       "<Figure size 432x288 with 1 Axes>"
      ]
     },
     "metadata": {},
     "output_type": "display_data"
    }
   ],
   "source": [
    "import numpy as np\n",
    "import networkx as nx\n",
    "import matplotlib.pyplot as plt\n",
    "\n",
    "def diagramaDeMatrizDeTransicion(matriz):\n",
    "    G = nx.DiGraph()\n",
    "    filas, columnas = matriz.shape\n",
    "    etiquetas = {i: str(i) for i in range(filas)}\n",
    "    G.add_nodes_from(etiquetas.keys())\n",
    "    for i in range(filas):\n",
    "        for j in range(columnas):\n",
    "            peso = matriz[i, j]\n",
    "            if peso > 0:\n",
    "                G.add_edge(i, j, weight=peso)\n",
    "    pos = nx.circular_layout(G)\n",
    "    nx.draw_networkx_labels(G, pos, labels=etiquetas, font_size=4, font_color='w')\n",
    "    edges = G.edges()\n",
    "    peso = [G[u][v]['weight'] for u,v in edges]\n",
    "    etiquetas = {edge: str(G.edges[edge]['weight']) for edge in G.edges()}\n",
    "    nx.draw_networkx_edges(G, pos, edgelist=edges, edge_color='black', width=peso)\n",
    "    nx.draw_networkx_edge_labels(G, pos, edge_labels=etiquetas, font_size=9, font_color='b')\n",
    "    plt.axis('off')\n",
    "    plt.show()\n",
    "    \n",
    "#----------Prueba-----------------------------------------------------------------------------\n",
    "\n",
    "matriz = np.array([[0.1, 0.9, 0.0],\n",
    "                   [0.0, 0.5, 0.5],\n",
    "                   [0.3, 0.2, 0.5]])\n",
    "    \n",
    "    \n",
    "diagramaDeMatrizDeTransicion(matriz)"
   ]
  },
  {
   "cell_type": "markdown",
   "id": "aeadb57a",
   "metadata": {},
   "source": [
    "#### Ejemplo 2"
   ]
  },
  {
   "cell_type": "markdown",
   "id": "47a1d577",
   "metadata": {},
   "source": [
    "- En la siguiente celda, adjunto un código que para cualquier matriz $A \\in \\mathbb{R}^{nxn}$ se verifica si es una matriz estocastica, y por lo tanto una matriz valida para usar en una Cadena de Markov."
   ]
  },
  {
   "cell_type": "code",
   "execution_count": 2,
   "id": "d1cd79a2",
   "metadata": {},
   "outputs": [
    {
     "name": "stdout",
     "output_type": "stream",
     "text": [
      "M1 es matriz estocástica\n",
      "M2 no es matriz estocástica\n"
     ]
    }
   ],
   "source": [
    "def validacion_matriz_estocastica(matriz):\n",
    "    #Validar si la matriz es cuadrada:\n",
    "    if matriz.shape[0] != matriz.shape[1]:\n",
    "        return False\n",
    "    \n",
    "    # Verifica si todos los elementos son no negativos:\n",
    "    if np.any(matriz < 0):\n",
    "        return False\n",
    "    \n",
    "    # Verifica si cada fila suma a 1:\n",
    "    sumas_filas = np.sum(matriz, axis = 1)\n",
    "    if not np.allclose(sumas_filas, 1):\n",
    "        return False\n",
    "    \n",
    "    # Todas las verificaciones pasaron, la matriz es una matriz de transición válida:\n",
    "    return True\n",
    "\n",
    "\n",
    "\n",
    "#----------Pruebas----------------------------------------------------------------------------\n",
    "\n",
    "M1 = np.array([[0.07, 0.15, 0.23, 0.55], \n",
    "               [0.73, 0.04, 0.01, 0.22], \n",
    "               [0.13, 0.13, 0.51, 0.23], \n",
    "               [0.25, 0.25, 0.25, 0.25]])\n",
    "\n",
    "M2 = np.array([[0.77, 0.25, 0.23, 0.55], \n",
    "               [0.173, 0.04, 0.01, 0.0022], \n",
    "               [0.13, 0.13, 0.51, 0.23], \n",
    "               [0.25, 0.25, 0.25, 0.25]])\n",
    "\n",
    "\n",
    "V1 = validacion_matriz_estocastica(M1)\n",
    "V2 = validacion_matriz_estocastica(M2)\n",
    "\n",
    "\n",
    "print(\"M1 es matriz estocástica\") if V1 else print(\"M1 no es matriz estocástica\")\n",
    "print(\"M2 es matriz estocástica\") if V2 else print(\"M2 no es matriz estocástica\")\n",
    "\n"
   ]
  },
  {
   "cell_type": "markdown",
   "id": "18a8eb11",
   "metadata": {},
   "source": [
    "#### Ejemplo 3"
   ]
  },
  {
   "cell_type": "markdown",
   "id": "1d3601e8",
   "metadata": {},
   "source": [
    "- En la siguiente celda está el código para simular un paso en una cadena de Markov, y en la celda siguiente un ejemplo de como usarlo, por defecto se eligen 20 pasos, la matriz del ejemplo 1 y que inicia en el estado 1 (que corresponde a la fila 0 en la matriz). Vuelve a correr las celdas para generar otra lista con los pasos que tome un proceso diferente bajo los mismos parámetros o usa una la función definida para intentar otra matriz."
   ]
  },
  {
   "cell_type": "code",
   "execution_count": 3,
   "id": "bd0e7fef",
   "metadata": {},
   "outputs": [],
   "source": [
    "import random\n",
    "def paso(A,i,n):\n",
    "    #Aquí A es la matriz estocástica, i el estado anterior y n la cantidad de estados\n",
    "    #(es decir, la longitud de una dimension de la matriz)\n",
    "    x=random.random()\n",
    "    #esto genera una uniforme en [0,1), por lo que hay que ponderar sobre la FMP\n",
    "    j=0\n",
    "    y=A[i,0]\n",
    "    while y<x and j<n-1:\n",
    "        j=j+1\n",
    "        y=y+A[i,j]\n",
    "    return(j)"
   ]
  },
  {
   "cell_type": "code",
   "execution_count": 4,
   "id": "ea8d4265",
   "metadata": {},
   "outputs": [
    {
     "name": "stdout",
     "output_type": "stream",
     "text": [
      "[0, 0, 1, 2, 2, 0, 1, 1, 1, 2, 1, 1, 2, 2, 2, 2, 2, 0, 1, 2, 0]\n"
     ]
    }
   ],
   "source": [
    "matriz = np.array([[0.1, 0.9, 0.0],\n",
    "                   [0.0, 0.5, 0.5],\n",
    "                   [0.3, 0.2, 0.5]])\n",
    "#Aqui puedes cambiar la matriz para simular cualquier proceso de estados finitos\n",
    "\n",
    "inicio = 1\n",
    "#Aqui puedes cambiar el estado inicial, segun el espacio que ocupe en el vector de probabilidad (iniciando en 1)\n",
    "\n",
    "pasos  = 20\n",
    "#Aquí puedes cambiar el número de pasos a simular\n",
    "\n",
    "\n",
    "\n",
    "i = inicio-1\n",
    "n=len(matriz)\n",
    "lista = [i]\n",
    "for j in range(pasos):\n",
    "    i = paso(matriz,i,n)\n",
    "    lista.append(i)\n",
    "print(lista)"
   ]
  },
  {
   "cell_type": "markdown",
   "id": "1770762a",
   "metadata": {},
   "source": [
    "### Referencias\n",
    "\n",
    ">Norris, J. R. (1997). *Markov Chains* (2nd ed.). Cambridge University Press.\n",
    "\n",
    ">Blitzstein, J. K., & Hwang, J. (2015). *Introduction to probability* (2nd ed.). CRC Press.\n",
    "\n",
    ">Papoulis, A., & Pillai, S. U. (2002). *Probability, Random Variables, and Stochastic Processes.* (4th ed.). McGraw-Hill Education.\n",
    "\n"
   ]
  }
 ],
 "metadata": {
  "kernelspec": {
   "display_name": "Python 3 (ipykernel)",
   "language": "python",
   "name": "python3"
  },
  "language_info": {
   "codemirror_mode": {
    "name": "ipython",
    "version": 3
   },
   "file_extension": ".py",
   "mimetype": "text/x-python",
   "name": "python",
   "nbconvert_exporter": "python",
   "pygments_lexer": "ipython3",
   "version": "3.9.12"
  }
 },
 "nbformat": 4,
 "nbformat_minor": 5
}
