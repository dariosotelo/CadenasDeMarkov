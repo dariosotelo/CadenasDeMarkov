{
 "cells": [
  {
   "cell_type": "markdown",
   "id": "0c50aedb",
   "metadata": {},
   "source": [
    "# Cadenas de Markov\n",
    "\n",
    "## Mateo Guajardo \n",
    "## Darío Sotelo"
   ]
  },
  {
   "cell_type": "code",
   "execution_count": null,
   "id": "1ecb1307",
   "metadata": {},
   "outputs": [],
   "source": []
  },
  {
   "cell_type": "code",
   "execution_count": null,
   "id": "7e94969a",
   "metadata": {},
   "outputs": [],
   "source": []
  }
 ],
 "metadata": {
  "kernelspec": {
   "display_name": "Python 3 (ipykernel)",
   "language": "python",
   "name": "python3"
  },
  "language_info": {
   "codemirror_mode": {
    "name": "ipython",
    "version": 3
   },
   "file_extension": ".py",
   "mimetype": "text/x-python",
   "name": "python",
   "nbconvert_exporter": "python",
   "pygments_lexer": "ipython3",
   "version": "3.9.12"
  }
 },
 "nbformat": 4,
 "nbformat_minor": 5
}
